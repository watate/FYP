{
 "cells": [
  {
   "cell_type": "code",
   "execution_count": 26,
   "metadata": {},
   "outputs": [],
   "source": [
    "\n",
    "import pickle\n",
    "import os\n",
    "import matplotlib.pyplot as plt\n",
    "import numpy as np\n",
    "import seaborn as sb\n",
    "import pandas as pd\n",
    "\n",
    "##############################################################################\n",
    "#Prepare and choose datasets from which to generate graphs #ADD_HERE\n",
    "filename = \"20200309-000445_Jerk_Simple_dataframe.dat\"\n",
    "\n",
    "#Loading the DataFrame generated from preprocess (analysis_tf_summary.py)\n",
    "#ADD_HERE\n",
    "if os.path.exists(filename):\n",
    "    with open(filename, 'rb') as rfp:\n",
    "        df = pickle.load(rfp)\n",
    "\n",
    "######################### AVERAGING THE DATA #########################\n",
    "#Obtain raw values from previous dataframe\n",
    "reward = df[\"reward\"]\n",
    "q_max = df[\"q_max\"]\n",
    "distance = df[\"distance\"]\n",
    "steps = df[\"steps\"]\n",
    "pid_rate = df[\"pid_rate\"]\n",
    "result = df[\"result\"]\n",
    "\n",
    "#Separate the groups. The last slice will be fine with less than 100 numbers.\n",
    "groups = [reward[x:x+100] for x in range(0, len(reward), 100)]\n",
    "#calculate mean\n",
    "average_reward = [sum(group)/len(group) for group in groups]\n",
    "\n",
    "#repeat for other variables\n",
    "groups = [q_max[x:x+100] for x in range(0, len(q_max), 100)]\n",
    "average_performance = [sum(group)/len(group) for group in groups]\n",
    "groups = [distance[x:x+100] for x in range(0, len(distance), 100)]\n",
    "average_distance = [sum(group)/len(group) for group in groups]\n",
    "groups = [steps[x:x+100] for x in range(0, len(steps), 100)]\n",
    "average_steps = [sum(group)/len(group) for group in groups]\n",
    "groups = [pid_rate[x:x+100] for x in range(0, len(pid_rate), 100)]\n",
    "average_pid_rate = [sum(group)/len(group) for group in groups]\n",
    "policy_usage = [1 - i for i in average_pid_rate]\n",
    "\n",
    "for i in result:\n",
    "\tif i == 1:\n",
    "\t\ti = 0\n",
    "\telif i == 2:\n",
    "\t\ti = 0\n",
    "\telse:\n",
    "\t\ti = 1"
   ]
  },
  {
   "cell_type": "code",
   "execution_count": 47,
   "metadata": {},
   "outputs": [
    {
     "data": {
      "image/png": "[encoded data removed]",
      "text/plain": [
       "<Figure size 432x288 with 1 Axes>"
      ]
     },
     "metadata": {},
     "output_type": "display_data"
    }
   ],
   "source": []
  },
  {
   "cell_type": "code",
   "execution_count": 48,
   "metadata": {},
   "outputs": [],
   "source": []
  },
  {
   "cell_type": "code",
   "execution_count": 25,
   "metadata": {},
   "outputs": [
    {
     "ename": "AttributeError",
     "evalue": "'list' object has no attribute 'get_figure'",
     "output_type": "error",
     "traceback": [
      "\u001b[1;31m---------------------------------------------------------------------------\u001b[0m",
      "\u001b[1;31mAttributeError\u001b[0m                            Traceback (most recent call last)",
      "\u001b[1;32m<ipython-input-25-201f6d7f5d2a>\u001b[0m in \u001b[0;36m<module>\u001b[1;34m\u001b[0m\n\u001b[1;32m----> 1\u001b[1;33m \u001b[0mfig\u001b[0m \u001b[1;33m=\u001b[0m \u001b[0mg\u001b[0m\u001b[1;33m.\u001b[0m\u001b[0mplot\u001b[0m\u001b[1;33m(\u001b[0m\u001b[1;33m)\u001b[0m\u001b[1;33m.\u001b[0m\u001b[0mget_figure\u001b[0m\u001b[1;33m(\u001b[0m\u001b[1;33m)\u001b[0m\u001b[1;33m\u001b[0m\u001b[1;33m\u001b[0m\u001b[0m\n\u001b[0m\u001b[0;32m      2\u001b[0m \u001b[0mfig\u001b[0m\u001b[1;33m.\u001b[0m\u001b[0msavefig\u001b[0m\u001b[1;33m(\u001b[0m\u001b[0msave_dir\u001b[0m \u001b[1;33m+\u001b[0m \u001b[1;34m\"paper_\"\u001b[0m \u001b[1;33m+\u001b[0m \u001b[0mname\u001b[0m \u001b[1;33m+\u001b[0m \u001b[1;34m\"_line\"\u001b[0m \u001b[1;33m+\u001b[0m \u001b[1;34m\".png\"\u001b[0m\u001b[1;33m,\u001b[0m \u001b[0mdpi\u001b[0m\u001b[1;33m=\u001b[0m\u001b[0mfig_dpi\u001b[0m\u001b[1;33m)\u001b[0m\u001b[1;33m\u001b[0m\u001b[1;33m\u001b[0m\u001b[0m\n",
      "\u001b[1;31mAttributeError\u001b[0m: 'list' object has no attribute 'get_figure'"
     ]
    }
   ],
   "source": []
  },
  {
   "cell_type": "code",
   "execution_count": 17,
   "metadata": {},
   "outputs": [
    {
     "name": "stdout",
     "output_type": "stream",
     "text": [
      "        Time  Normal Model  Model with Velocity Smoother  \\\n",
      "0          0      0.000000                      0.000000   \n",
      "1          1      0.001816                      0.025830   \n",
      "2          2     -0.017578                      0.098122   \n",
      "3          3      0.087328                      0.085285   \n",
      "4          4      0.055743                      0.085446   \n",
      "...      ...           ...                           ...   \n",
      "24227  24227     17.101341                      5.135238   \n",
      "24228  24228     16.939043                      5.160150   \n",
      "24229  24229     17.570650                      5.147012   \n",
      "24230  24230     17.363436                      5.094763   \n",
      "24231  24231     16.741135                      5.149167   \n",
      "\n",
      "       Model with Jerk-Learning  \n",
      "0                      0.000000  \n",
      "1                      0.045058  \n",
      "2                      0.123709  \n",
      "3                      0.138754  \n",
      "4                      0.159082  \n",
      "...                         ...  \n",
      "24227                  5.833048  \n",
      "24228                  5.842300  \n",
      "24229                  5.826564  \n",
      "24230                  5.853363  \n",
      "24231                  5.796066  \n",
      "\n",
      "[24232 rows x 4 columns]\n"
     ]
    }
   ],
   "source": []
  },
  {
   "cell_type": "code",
   "execution_count": null,
   "metadata": {},
   "outputs": [],
   "source": []
  }
 ],
 "metadata": {
  "kernelspec": {
   "display_name": "Python 3",
   "language": "python",
   "name": "python3"
  },
  "language_info": {
   "codemirror_mode": {
    "name": "ipython",
    "version": 3
   },
   "file_extension": ".py",
   "mimetype": "text/x-python",
   "name": "python",
   "nbconvert_exporter": "python",
   "pygments_lexer": "ipython3",
   "version": "3.7.4"
  }
 },
 "nbformat": 4,
 "nbformat_minor": 2
}
