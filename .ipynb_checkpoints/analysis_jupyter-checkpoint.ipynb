{
 "cells": [
  {
   "cell_type": "markdown",
   "metadata": {},
   "source": [
    "# Initialization"
   ]
  },
  {
   "cell_type": "code",
   "execution_count": 1,
   "metadata": {},
   "outputs": [],
   "source": [
    "import os\n",
    "import matplotlib.pyplot as plt\n",
    "import numpy as np\n",
    "import seaborn as sb\n",
    "import pandas as pd\n",
    "\n",
    "#prevent xlabel cutting off\n",
    "\t#see: https://stackoverflow.com/questions/6774086/why-is-my-xlabel-cut-off-in-my-matplotlib-plot\n",
    "from matplotlib import rcParams\n",
    "rcParams.update({'figure.autolayout': True})\n",
    "\n",
    "############## VISUALIZATION ##################\n",
    "#Initial settings\n",
    "sb.set(style=\"darkgrid\")\n",
    "fig_dpi = 300"
   ]
  },
  {
   "cell_type": "code",
   "execution_count": 20,
   "metadata": {},
   "outputs": [],
   "source": [
    "constant = 10\n",
    "a = np.linspace(1, constant, constant)\n",
    "b = np.random.rand(constant, 1)\n",
    "c = np.random.rand(constant, 1)\n",
    "d = np.linspace(1, constant, constant)\n",
    "\n",
    "data = {\"a\": a,\n",
    "\t\t\"b\": b,\n",
    "\t\t\"c\": c,\n",
    "\t\t\"d\": d,}"
   ]
  },
  {
   "cell_type": "code",
   "execution_count": 28,
   "metadata": {},
   "outputs": [],
   "source": [
    "df = pd.DataFrame(np.random.randint(0,100,size=(100, 4)), columns=list('abcd'))"
   ]
  },
  {
   "cell_type": "code",
   "execution_count": 21,
   "metadata": {},
   "outputs": [
    {
     "name": "stdout",
     "output_type": "stream",
     "text": [
      "[[0.96139907]\n",
      " [0.33134341]\n",
      " [0.59784914]\n",
      " [0.59441729]\n",
      " [0.01185001]\n",
      " [0.58161272]\n",
      " [0.38429971]\n",
      " [0.48717384]\n",
      " [0.67358036]\n",
      " [0.64548265]]\n"
     ]
    }
   ],
   "source": [
    "print(c)"
   ]
  },
  {
   "cell_type": "code",
   "execution_count": 17,
   "metadata": {},
   "outputs": [],
   "source": [
    "#Generate dataframe\n",
    "df = pd.DataFrame(data, columns=[\"a\", \"b\", \"c\", \"d\"])"
   ]
  },
  {
   "cell_type": "code",
   "execution_count": 31,
   "metadata": {},
   "outputs": [
    {
     "ename": "SyntaxError",
     "evalue": "keyword argument repeated (<ipython-input-31-0512fac00134>, line 2)",
     "output_type": "error",
     "traceback": [
      "\u001b[1;36m  File \u001b[1;32m\"<ipython-input-31-0512fac00134>\"\u001b[1;36m, line \u001b[1;32m2\u001b[0m\n\u001b[1;33m    g = sb.relplot(x=\"a\", y=\"d\", y=\"b\", kind=\"line\", data=df)\u001b[0m\n\u001b[1;37m                                ^\u001b[0m\n\u001b[1;31mSyntaxError\u001b[0m\u001b[1;31m:\u001b[0m keyword argument repeated\n"
     ]
    }
   ],
   "source": [
    "#Generating line graphs\n",
    "g = sb.relplot(x=\"a\", y=\"d\", kind=\"line\", data=df)\n",
    "#g.fig.autofmt_xdate()\n",
    "fig = g.fig"
   ]
  },
  {
   "cell_type": "code",
   "execution_count": null,
   "metadata": {},
   "outputs": [],
   "source": []
  }
 ],
 "metadata": {
  "kernelspec": {
   "display_name": "Python 3",
   "language": "python",
   "name": "python3"
  },
  "language_info": {
   "codemirror_mode": {
    "name": "ipython",
    "version": 3
   },
   "file_extension": ".py",
   "mimetype": "text/x-python",
   "name": "python",
   "nbconvert_exporter": "python",
   "pygments_lexer": "ipython3",
   "version": "3.7.4"
  }
 },
 "nbformat": 4,
 "nbformat_minor": 2
}
