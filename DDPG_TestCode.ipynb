{
 "cells": [
  {
   "cell_type": "code",
   "execution_count": 63,
   "metadata": {},
   "outputs": [
    {
     "name": "stdout",
     "output_type": "stream",
     "text": [
      "deque([(0, 1), (1, 2), (2, 3), (3, 4), (4, 5), (5, 6)])\n"
     ]
    }
   ],
   "source": [
    "from collections import deque\n",
    "import random\n",
    "import numpy as np\n",
    "\n",
    "buff = deque()\n",
    "for i in range(6):\n",
    "    buff.append((i, i+1))\n",
    "print(buff)"
   ]
  },
  {
   "cell_type": "code",
   "execution_count": 31,
   "metadata": {},
   "outputs": [],
   "source": [
    "buff = deque()\n",
    "experience = (1, 2, 3, 4, 5, 6)\n",
    "buff.append(experience)"
   ]
  },
  {
   "cell_type": "code",
   "execution_count": 43,
   "metadata": {},
   "outputs": [
    {
     "name": "stdout",
     "output_type": "stream",
     "text": [
      "(2, 3, 4, 5, 6, 7, 8)\n",
      "4\n"
     ]
    }
   ],
   "source": [
    "this = buff.pop()\n",
    "print(this)\n",
    "print(this[2])\n",
    "buff.append(this)"
   ]
  },
  {
   "cell_type": "code",
   "execution_count": 56,
   "metadata": {},
   "outputs": [
    {
     "name": "stdout",
     "output_type": "stream",
     "text": [
      "deque([(1, 2, 3, 4, 5, 6, 7), (2, 3, 4, 5, 6, 7, 8), (1, 2, 3, 4, 5, 6, 7), (2, 3, 4, 5, 6, 7, 8)])\n"
     ]
    }
   ],
   "source": [
    "print(buff)"
   ]
  },
  {
   "cell_type": "code",
   "execution_count": 36,
   "metadata": {},
   "outputs": [
    {
     "name": "stdout",
     "output_type": "stream",
     "text": [
      "3\n"
     ]
    }
   ],
   "source": [
    "print(buff[0][2])"
   ]
  },
  {
   "cell_type": "code",
   "execution_count": 55,
   "metadata": {},
   "outputs": [
    {
     "name": "stdout",
     "output_type": "stream",
     "text": [
      "[1, 2, 1, 2]\n"
     ]
    }
   ],
   "source": [
    "a = [1, 2]\n",
    "a.extend((1, 2))\n",
    "print(a)"
   ]
  },
  {
   "cell_type": "code",
   "execution_count": 61,
   "metadata": {},
   "outputs": [
    {
     "name": "stdout",
     "output_type": "stream",
     "text": [
      "(5, 6)\n",
      "(4, 5)\n",
      "deque([(0, 1), (1, 2), (2, 3), (3, 4)])\n"
     ]
    }
   ],
   "source": [
    "motion1 = buff.pop()\n",
    "motion2 = buff.pop()\n",
    "print(motion1)\n",
    "print(motion2)\n",
    "print(buff)"
   ]
  },
  {
   "cell_type": "code",
   "execution_count": 85,
   "metadata": {},
   "outputs": [
    {
     "name": "stdout",
     "output_type": "stream",
     "text": [
      "None\n",
      "None\n"
     ]
    }
   ],
   "source": [
    "a = np.random.randint(0,100,size=(2,))\n",
    "b = np.random.randint(0,100,size=(4,))\n",
    "c = np.random.randint(0,100,size=(6,))\n",
    "e = [1, 2, 3]\n",
    "f = [4, 5, 6]\n",
    "g = e.extend(f)\n",
    "\n",
    "print(g)\n",
    "print(g)"
   ]
  },
  {
   "cell_type": "code",
   "execution_count": 82,
   "metadata": {},
   "outputs": [
    {
     "name": "stdout",
     "output_type": "stream",
     "text": [
      "[10 75]\n",
      "[25 39 18 81]\n",
      "[ 5.    6.25  7.5   8.75 10.    5.    6.25  7.5   8.75 10.  ]\n",
      "[10.   75.   25.   39.   18.   81.    5.    6.25  7.5   8.75 10.    5.\n",
      "  6.25  7.5   8.75 10.  ]\n"
     ]
    }
   ],
   "source": [
    "\n",
    "d = np.concatenate([a, b, g], axis=0)\n",
    "for i in [a, b, g, d]:\n",
    "    print(i)"
   ]
  },
  {
   "cell_type": "code",
   "execution_count": null,
   "metadata": {},
   "outputs": [],
   "source": []
  }
 ],
 "metadata": {
  "kernelspec": {
   "display_name": "Python 3",
   "language": "python",
   "name": "python3"
  },
  "language_info": {
   "codemirror_mode": {
    "name": "ipython",
    "version": 3
   },
   "file_extension": ".py",
   "mimetype": "text/x-python",
   "name": "python",
   "nbconvert_exporter": "python",
   "pygments_lexer": "ipython3",
   "version": "3.7.4"
  }
 },
 "nbformat": 4,
 "nbformat_minor": 2
}
