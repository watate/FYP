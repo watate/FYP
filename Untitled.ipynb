{
 "cells": [
  {
   "cell_type": "code",
   "execution_count": 3,
   "metadata": {},
   "outputs": [],
   "source": [
    "#This script is to create the dataframes that will eventually be used by analysis_compare_graph\n",
    "#basically, what you want to do is:\n",
    "\t#1. Get data from all the models you have (Simple World, Complex World, Simple World with jerk)\n",
    "\t#2. Group data together according to the variable (e.g. Reward, PIDRate, etc.)\n",
    "\t\t#Each variable should get its own dataframe\n",
    "\t#3. Save dataframes to dataframe folder with appropriate variable names\n",
    "\n",
    "#If more dataframes are added, locations where we need to add more code is indicated by #ADD_HERE\n",
    "\n",
    "import pickle\n",
    "import os\n",
    "import matplotlib.pyplot as plt\n",
    "import numpy as np\n",
    "import seaborn as sb\n",
    "import pandas as pd\n",
    "\n",
    "##############################################################################\n",
    "#Prepare and choose datasets from which to generate graphs #ADD_HERE\n",
    "#filenames = [\"20200302-044536_24000s_dataframe.dat\", \n",
    "#\"20200311-004451_VSmooth_Simple_dataframe.dat\", \"20200309-000445_Jerk_Simple_dataframe.dat\"] #Simple Worlds\n",
    "\n",
    "filenames = [\"Normal_Simple_smooth.dat\", \"VSmooth_Simple_smooth.dat\", \"Jerk_Simple_smooth.dat\"] #Simple Averaged\n",
    "filenames = [\"dataframe_smoothed/\" + i for i in filenames]\n",
    "\n",
    "#Loading the DataFrame generated from preprocess (analysis_tf_summary.py)\n",
    "#ADD_HERE\n",
    "if os.path.exists(filenames[0]):\n",
    "\twith open(filenames[0], 'rb') as rfp:\n",
    "\t\tdf0 = pickle.load(rfp)\n",
    "if os.path.exists(filenames[1]):\n",
    "\twith open(filenames[1], 'rb') as rfp:\n",
    "\t\tdf1 = pickle.load(rfp)\n",
    "if os.path.exists(filenames[2]):\n",
    "\twith open(filenames[2], 'rb') as rfp:\n",
    "\t\tdf2 = pickle.load(rfp)\n",
    "\n",
    "df_list = [df0, df1, df2] #ADD_HERE"
   ]
  },
  {
   "cell_type": "code",
   "execution_count": 4,
   "metadata": {},
   "outputs": [
    {
     "name": "stdout",
     "output_type": "stream",
     "text": [
      "        Time    Reward      Qmax  Distance      Steps  Policy Usage  \\\n",
      "0          0 -4.226115  0.000000  3.917745  29.000000      0.000000   \n",
      "1          1 -4.524300  0.006470  4.055339  33.509005      0.276872   \n",
      "2          2 -4.608259  0.018131  4.056165  33.226102      0.381761   \n",
      "3          3 -4.741179  0.026722  4.040371  32.414269      0.536785   \n",
      "4          4 -4.300958  0.033209  4.016359  32.411487      0.452903   \n",
      "...      ...       ...       ...       ...        ...           ...   \n",
      "25081  25081  3.618847  5.122142  3.403907  59.393537      0.976173   \n",
      "25082  25082  3.619088  5.122136  3.403881  59.393787      0.976221   \n",
      "25083  25083  3.619345  5.122130  3.403857  59.393965      0.976269   \n",
      "25084  25084  3.619615  5.122125  3.403833  59.394182      0.976316   \n",
      "25085  25085  3.619902  5.122119  3.403813  59.394336      0.976363   \n",
      "\n",
      "       Success Rate  \n",
      "0          0.000000  \n",
      "1          0.000000  \n",
      "2          0.000000  \n",
      "3          0.000000  \n",
      "4          0.200801  \n",
      "...             ...  \n",
      "25081      0.692815  \n",
      "25082      0.693429  \n",
      "25083      0.694041  \n",
      "25084      0.694653  \n",
      "25085      0.695263  \n",
      "\n",
      "[25086 rows x 7 columns]\n"
     ]
    }
   ],
   "source": [
    "print(df1)"
   ]
  },
  {
   "cell_type": "code",
   "execution_count": 2,
   "metadata": {},
   "outputs": [
    {
     "name": "stdout",
     "output_type": "stream",
     "text": [
      "['dataframe_smooth/Normal_Simple_smooth.dat', 'dataframe_smooth/VSmooth_Simple_smooth.dat', 'dataframe_smooth/Jerk_Simple_smooth.dat']\n"
     ]
    }
   ],
   "source": [
    "print(filenames)"
   ]
  },
  {
   "cell_type": "code",
   "execution_count": null,
   "metadata": {},
   "outputs": [],
   "source": []
  },
  {
   "cell_type": "code",
   "execution_count": null,
   "metadata": {},
   "outputs": [],
   "source": []
  },
  {
   "cell_type": "code",
   "execution_count": null,
   "metadata": {},
   "outputs": [],
   "source": []
  }
 ],
 "metadata": {
  "kernelspec": {
   "display_name": "Python 3",
   "language": "python",
   "name": "python3"
  },
  "language_info": {
   "codemirror_mode": {
    "name": "ipython",
    "version": 3
   },
   "file_extension": ".py",
   "mimetype": "text/x-python",
   "name": "python",
   "nbconvert_exporter": "python",
   "pygments_lexer": "ipython3",
   "version": "3.7.4"
  }
 },
 "nbformat": 4,
 "nbformat_minor": 2
}
