{
 "cells": [
  {
   "cell_type": "markdown",
   "metadata": {},
   "source": [
    "# Testing\n",
    "Here I want to figure out how to draw the multi-line graphs for the different models I've trained"
   ]
  },
  {
   "cell_type": "code",
   "execution_count": 40,
   "metadata": {},
   "outputs": [],
   "source": [
    "\n",
    "import pickle\n",
    "import os\n",
    "import matplotlib.pyplot as plt\n",
    "import numpy as np\n",
    "import seaborn as sb\n",
    "import pandas as pd\n",
    "\n",
    "##############################################################################\n",
    "#Prepare and choose dataframe from which to generate graphs\n",
    "filepath = \"dataframes/qmax_simpleVScomplex.dat\"\n",
    "if os.path.exists(filepath):\n",
    "    with open(filepath, 'rb') as rfp:\n",
    "        df = pickle.load(rfp)\n",
    "\n",
    "############## INITIAL SETTINGS ##################\n",
    "#prevent xlabel cutting off\n",
    "\t#see: https://stackoverflow.com/questions/6774086/why-is-my-xlabel-cut-off-in-my-matplotlib-plot\n",
    "from matplotlib import rcParams\n",
    "rcParams.update({'figure.autolayout': True})\n",
    "\n",
    "#Setting the style\n",
    "sb.set(style=\"darkgrid\")\n",
    "\n"
   ]
  },
  {
   "cell_type": "markdown",
   "metadata": {},
   "source": []
  },
  {
   "cell_type": "code",
   "execution_count": 41,
   "metadata": {},
   "outputs": [],
   "source": [
    "#Set context for graphs\n",
    "sb.set_context(\"paper\")"
   ]
  },
  {
   "cell_type": "code",
   "execution_count": 42,
   "metadata": {},
   "outputs": [
    {
     "name": "stdout",
     "output_type": "stream",
     "text": [
      "        Time  Simple World  Complex World\n",
      "0          0      0.000000       0.000000\n",
      "1          1      0.001816       0.026822\n",
      "2          2     -0.017578       0.079571\n",
      "3          3      0.087328       0.111901\n",
      "4          4      0.055743       0.124854\n",
      "...      ...           ...            ...\n",
      "24227  24227     17.101341       5.375128\n",
      "24228  24228     16.939043       5.340528\n",
      "24229  24229     17.570650       5.364100\n",
      "24230  24230     17.363436       5.326722\n",
      "24231  24231     16.741135       5.346927\n",
      "\n",
      "[24232 rows x 3 columns]\n",
      "        Time       variable     value\n",
      "0          0   Simple World  0.000000\n",
      "1          1   Simple World  0.001816\n",
      "2          2   Simple World -0.017578\n",
      "3          3   Simple World  0.087328\n",
      "4          4   Simple World  0.055743\n",
      "...      ...            ...       ...\n",
      "48459  24227  Complex World  5.375128\n",
      "48460  24228  Complex World  5.340528\n",
      "48461  24229  Complex World  5.364100\n",
      "48462  24230  Complex World  5.326722\n",
      "48463  24231  Complex World  5.346927\n",
      "\n",
      "[48464 rows x 3 columns]\n"
     ]
    }
   ],
   "source": [
    "#Drop NaN rows\n",
    "df = df.dropna().copy()\n",
    "\n",
    "print(df)\n",
    "#Apply pandas melt\n",
    "df = pd.melt(df, id_vars=[\"Time\"])\n",
    "\n",
    "print(df)"
   ]
  },
  {
   "cell_type": "code",
   "execution_count": 43,
   "metadata": {},
   "outputs": [
    {
     "data": {
      "image/png": "[encoded data removed]",
      "text/plain": [
       "<Figure size 432x288 with 1 Axes>"
      ]
     },
     "metadata": {},
     "output_type": "display_data"
    }
   ],
   "source": [
    "\n",
    "#Plot graphs\n",
    "g = sb.lineplot(x=\"Time\", y=\"value\", hue='variable', \n",
    "             data=df)\n",
    "#g.set_title(\"{0} vs {1}\".format(t, y))"
   ]
  },
  {
   "cell_type": "code",
   "execution_count": 5,
   "metadata": {},
   "outputs": [
    {
     "data": {
      "text/plain": [
       "10000"
      ]
     },
     "execution_count": 5,
     "metadata": {},
     "output_type": "execute_result"
    }
   ],
   "source": []
  },
  {
   "cell_type": "code",
   "execution_count": null,
   "metadata": {},
   "outputs": [],
   "source": []
  },
  {
   "cell_type": "code",
   "execution_count": null,
   "metadata": {},
   "outputs": [],
   "source": []
  },
  {
   "cell_type": "code",
   "execution_count": null,
   "metadata": {},
   "outputs": [],
   "source": []
  },
  {
   "cell_type": "code",
   "execution_count": null,
   "metadata": {},
   "outputs": [],
   "source": []
  },
  {
   "cell_type": "code",
   "execution_count": null,
   "metadata": {},
   "outputs": [],
   "source": []
  },
  {
   "cell_type": "code",
   "execution_count": null,
   "metadata": {},
   "outputs": [],
   "source": []
  },
  {
   "cell_type": "code",
   "execution_count": null,
   "metadata": {},
   "outputs": [],
   "source": []
  },
  {
   "cell_type": "code",
   "execution_count": null,
   "metadata": {},
   "outputs": [],
   "source": []
  }
 ],
 "metadata": {
  "kernelspec": {
   "display_name": "Python 3",
   "language": "python",
   "name": "python3"
  },
  "language_info": {
   "codemirror_mode": {
    "name": "ipython",
    "version": 3
   },
   "file_extension": ".py",
   "mimetype": "text/x-python",
   "name": "python",
   "nbconvert_exporter": "python",
   "pygments_lexer": "ipython3",
   "version": "3.7.4"
  }
 },
 "nbformat": 4,
 "nbformat_minor": 2
}
